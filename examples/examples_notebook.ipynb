{
 "metadata": {
  "name": "",
  "signature": "sha256:ad86081d34ba7ab4d7eb0bd390cc3dd1cc7a6ca9577d783394b3d0e5f3f8384e"
 },
 "nbformat": 3,
 "nbformat_minor": 0,
 "worksheets": [
  {
   "cells": [
    {
     "cell_type": "code",
     "collapsed": false,
     "input": [
      "from jigna.utils.notebook import display_jigna"
     ],
     "language": "python",
     "metadata": {},
     "outputs": []
    },
    {
     "cell_type": "code",
     "collapsed": false,
     "input": [
      "from simple_view import Person, template\n",
      "\n",
      "fred = Person(name='fred', age=42)\n",
      "display_jigna(context={'person':fred}, template=template)"
     ],
     "language": "python",
     "metadata": {},
     "outputs": []
    },
    {
     "cell_type": "code",
     "collapsed": false,
     "input": [
      "fred.name"
     ],
     "language": "python",
     "metadata": {},
     "outputs": []
    },
    {
     "cell_type": "code",
     "collapsed": false,
     "input": [
      "from matplotlib_web import DomainModel, PlotController, template\n",
      "\n",
      "domain_model = DomainModel(scaling_factor=15)\n",
      "plot_controller=PlotController(domain_model=domain_model)\n",
      "\n",
      "display_jigna(context={'domain_model': domain_model, 'plot_controller': plot_controller}, template=template)"
     ],
     "language": "python",
     "metadata": {},
     "outputs": []
    },
    {
     "cell_type": "code",
     "collapsed": false,
     "input": [],
     "language": "python",
     "metadata": {},
     "outputs": []
    }
   ],
   "metadata": {}
  }
 ]
}