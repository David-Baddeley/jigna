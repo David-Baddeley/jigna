{
 "metadata": {
  "name": "",
  "signature": "sha256:c7d15fdeabbed33f701b1d93bfcf749c2e4978bfaa586e7b5834f3483dd7730c"
 },
 "nbformat": 3,
 "nbformat_minor": 0,
 "worksheets": [
  {
   "cells": [
    {
     "cell_type": "code",
     "collapsed": false,
     "input": [
      "from jigna.utils.notebook import display_jigna"
     ],
     "language": "python",
     "metadata": {},
     "outputs": []
    },
    {
     "cell_type": "code",
     "collapsed": false,
     "input": [
      "from simple_view import Person, template\n",
      "\n",
      "fred = Person(name='fred', age=42)\n",
      "display_jigna(context={'person':fred}, template=template)"
     ],
     "language": "python",
     "metadata": {},
     "outputs": []
    },
    {
     "cell_type": "code",
     "collapsed": false,
     "input": [
      "fred.name"
     ],
     "language": "python",
     "metadata": {},
     "outputs": []
    },
    {
     "cell_type": "code",
     "collapsed": false,
     "input": [
      "wilma = Person(name='wilma', age=41)\n",
      "display_jigna(context={'person': wilma}, template=template)"
     ],
     "language": "python",
     "metadata": {},
     "outputs": []
    },
    {
     "cell_type": "code",
     "collapsed": false,
     "input": [
      "wilma.name"
     ],
     "language": "python",
     "metadata": {},
     "outputs": []
    },
    {
     "cell_type": "code",
     "collapsed": false,
     "input": [
      "from matplotlib_web import DomainModel, PlotController, template\n",
      "\n",
      "domain_model = DomainModel(scaling_factor=15)\n",
      "plot_controller = PlotController(domain_model=domain_model)\n",
      "\n",
      "display_jigna(context={'domain_model': domain_model, 'plot_controller': plot_controller}, template=template)"
     ],
     "language": "python",
     "metadata": {},
     "outputs": []
    },
    {
     "cell_type": "code",
     "collapsed": false,
     "input": [
      "domain_model.scaling_factor"
     ],
     "language": "python",
     "metadata": {},
     "outputs": []
    },
    {
     "cell_type": "code",
     "collapsed": false,
     "input": [],
     "language": "python",
     "metadata": {},
     "outputs": []
    }
   ],
   "metadata": {}
  }
 ]
}