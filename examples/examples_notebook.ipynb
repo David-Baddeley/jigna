{
 "metadata": {
  "name": "",
  "signature": "sha256:3050c45ed6f0d477a3e2e3fc731ee5b74a02d88d838d44e935bd893fb1dc5027"
 },
 "nbformat": 3,
 "nbformat_minor": 0,
 "worksheets": [
  {
   "cells": [
    {
     "cell_type": "code",
     "collapsed": false,
     "input": [
      "from jigna.utils.notebook import display_jigna"
     ],
     "language": "python",
     "metadata": {},
     "outputs": [],
     "prompt_number": 1
    },
    {
     "cell_type": "heading",
     "level": 2,
     "metadata": {},
     "source": [
      "Simple View Example"
     ]
    },
    {
     "cell_type": "code",
     "collapsed": false,
     "input": [
      "from simple_view import Person, template\n",
      "fred = Person(name='Fred', age=42)\n",
      "\n",
      "display_jigna(context={'person': fred}, template=template)"
     ],
     "language": "python",
     "metadata": {},
     "outputs": [],
     "prompt_number": 10
    },
    {
     "cell_type": "code",
     "collapsed": false,
     "input": [
      "from IPython.display import display_html\n",
      "display_html(html, raw=True)"
     ],
     "language": "python",
     "metadata": {},
     "outputs": [
      {
       "html": [
        "\n",
        "   Foo\n",
        "   <div id='jigna-injected-1'>\n",
        "      Name: {{person.name}}\n",
        "      Age: {{person.age}}\n",
        "   </div>\n"
       ],
       "metadata": {},
       "output_type": "display_data"
      }
     ],
     "prompt_number": 11
    },
    {
     "cell_type": "code",
     "collapsed": false,
     "input": [
      "from IPython.display import Javascript\n",
      "js = \"\"\"\n",
      "    window.jigna_server = localhost:8005\n",
      "\"\"\""
     ],
     "language": "python",
     "metadata": {},
     "outputs": []
    },
    {
     "cell_type": "heading",
     "level": 2,
     "metadata": {},
     "source": [
      "Slow Method Call Example"
     ]
    },
    {
     "cell_type": "code",
     "collapsed": false,
     "input": [
      "from method_call_slow import Installer, Package, template\n",
      "installer = Installer()\n",
      "numpy = Package(name='Numpy', version='0.4')\n",
      "\n",
      "display_jigna(context={'installer': installer, 'new_package': numpy}, template=template)"
     ],
     "language": "python",
     "metadata": {},
     "outputs": []
    },
    {
     "cell_type": "code",
     "collapsed": false,
     "input": [],
     "language": "python",
     "metadata": {},
     "outputs": []
    }
   ],
   "metadata": {}
  }
 ]
}