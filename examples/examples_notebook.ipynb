{
 "metadata": {
  "name": "",
  "signature": "sha256:22575219c917475bf78b49408ecd75db52e9b5a5355f7f187bc32d688938dde8"
 },
 "nbformat": 3,
 "nbformat_minor": 0,
 "worksheets": [
  {
   "cells": [
    {
     "cell_type": "code",
     "collapsed": false,
     "input": [
      "from jigna.utils.notebook import display_jigna"
     ],
     "language": "python",
     "metadata": {},
     "outputs": []
    },
    {
     "cell_type": "heading",
     "level": 3,
     "metadata": {},
     "source": [
      "Simple View example"
     ]
    },
    {
     "cell_type": "code",
     "collapsed": false,
     "input": [
      "from simple_view import Person, template\n",
      "\n",
      "fred = Person(name='fred', age=42)\n",
      "display_jigna(context={'person':fred}, template=template)"
     ],
     "language": "python",
     "metadata": {},
     "outputs": []
    },
    {
     "cell_type": "code",
     "collapsed": false,
     "input": [
      "fred.name"
     ],
     "language": "python",
     "metadata": {},
     "outputs": []
    },
    {
     "cell_type": "code",
     "collapsed": false,
     "input": [
      "wilma = Person(name='wilma', age=41)\n",
      "display_jigna(context={'person': wilma}, template=template)"
     ],
     "language": "python",
     "metadata": {},
     "outputs": []
    },
    {
     "cell_type": "code",
     "collapsed": false,
     "input": [
      "wilma.name"
     ],
     "language": "python",
     "metadata": {},
     "outputs": []
    },
    {
     "cell_type": "heading",
     "level": 3,
     "metadata": {},
     "source": [
      "Interactive matplotlib on the web"
     ]
    },
    {
     "cell_type": "code",
     "collapsed": false,
     "input": [
      "from matplotlib_web import DomainModel, PlotController, template\n",
      "\n",
      "domain_model = DomainModel(scaling_factor=15)\n",
      "plot_controller = PlotController(domain_model=domain_model)\n",
      "\n",
      "display_jigna(context={'domain_model': domain_model, 'plot_controller': plot_controller}, template=template, size=(1000, 700))"
     ],
     "language": "python",
     "metadata": {},
     "outputs": []
    },
    {
     "cell_type": "code",
     "collapsed": false,
     "input": [
      "domain_model.scaling_factor = 18"
     ],
     "language": "python",
     "metadata": {},
     "outputs": []
    },
    {
     "cell_type": "heading",
     "level": 3,
     "metadata": {},
     "source": [
      "Mayavi on the web"
     ]
    },
    {
     "cell_type": "code",
     "collapsed": false,
     "input": [
      "from mayavi_webgl_demo import Model3D, template\n",
      "\n",
      "model = Model3D()\n",
      "\n",
      "display_jigna(context={'model': model}, template=template)"
     ],
     "language": "python",
     "metadata": {},
     "outputs": []
    },
    {
     "cell_type": "code",
     "collapsed": false,
     "input": [],
     "language": "python",
     "metadata": {},
     "outputs": []
    }
   ],
   "metadata": {}
  }
 ]
}